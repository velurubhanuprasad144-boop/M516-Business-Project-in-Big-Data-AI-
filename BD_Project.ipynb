{
  "nbformat": 4,
  "nbformat_minor": 0,
  "metadata": {
    "colab": {
      "provenance": [],
      "authorship_tag": "ABX9TyNc6qn+R5tNabvBG1zeAIZG",
      "include_colab_link": true
    },
    "kernelspec": {
      "name": "python3",
      "display_name": "Python 3"
    },
    "language_info": {
      "name": "python"
    }
  },
  "cells": [
    {
      "cell_type": "markdown",
      "metadata": {
        "id": "view-in-github",
        "colab_type": "text"
      },
      "source": [
        "<a href=\"https://colab.research.google.com/github/velurubhanuprasad144-boop/M516-Business-Project-in-Big-Data-AI-/blob/main/BD_Project.ipynb\" target=\"_parent\"><img src=\"https://colab.research.google.com/assets/colab-badge.svg\" alt=\"Open In Colab\"/></a>"
      ]
    },
    {
      "cell_type": "markdown",
      "source": [
        "# **Data Loading and Inspection**"
      ],
      "metadata": {
        "id": "39yDYva_B19x"
      }
    },
    {
      "cell_type": "code",
      "source": [
        "import pandas as pd\n",
        "\n",
        "# Load the dataset\n",
        "df = pd.read_csv('insurance.csv')\n",
        "\n",
        "# Inspect the data\n",
        "print(\"First 5 rows:\\n\", df.head())\n",
        "print(\"Data info:\\n\")\n",
        "df.info()\n",
        "print(\"Missing values per column:\\n\", df.isnull().sum())\n",
        "\n"
      ],
      "metadata": {
        "colab": {
          "base_uri": "https://localhost:8080/"
        },
        "id": "RlXB37YkBadD",
        "outputId": "e333acf5-6f0e-42bc-cd23-6f06e32199ae"
      },
      "execution_count": 2,
      "outputs": [
        {
          "output_type": "stream",
          "name": "stdout",
          "text": [
            "First 5 rows:\n",
            "    age     sex     bmi  children smoker     region      charges\n",
            "0   19  female  27.900         0    yes  southwest  16884.92400\n",
            "1   18    male  33.770         1     no  southeast   1725.55230\n",
            "2   28    male  33.000         3     no  southeast   4449.46200\n",
            "3   33    male  22.705         0     no  northwest  21984.47061\n",
            "4   32    male  28.880         0     no  northwest   3866.85520\n",
            "Data info:\n",
            "\n",
            "<class 'pandas.core.frame.DataFrame'>\n",
            "RangeIndex: 1338 entries, 0 to 1337\n",
            "Data columns (total 7 columns):\n",
            " #   Column    Non-Null Count  Dtype  \n",
            "---  ------    --------------  -----  \n",
            " 0   age       1338 non-null   int64  \n",
            " 1   sex       1338 non-null   object \n",
            " 2   bmi       1338 non-null   float64\n",
            " 3   children  1338 non-null   int64  \n",
            " 4   smoker    1338 non-null   object \n",
            " 5   region    1338 non-null   object \n",
            " 6   charges   1338 non-null   float64\n",
            "dtypes: float64(2), int64(2), object(3)\n",
            "memory usage: 73.3+ KB\n",
            "Missing values per column:\n",
            " age         0\n",
            "sex         0\n",
            "bmi         0\n",
            "children    0\n",
            "smoker      0\n",
            "region      0\n",
            "charges     0\n",
            "dtype: int64\n"
          ]
        }
      ]
    },
    {
      "cell_type": "markdown",
      "source": [
        "# **Data Cleaning.**"
      ],
      "metadata": {
        "id": "fDKhR0jmBw1T"
      }
    },
    {
      "cell_type": "code",
      "source": [
        "# Drop duplicates, if any\n",
        "df = df.drop_duplicates()"
      ],
      "metadata": {
        "id": "zww6_8JiBwpD"
      },
      "execution_count": 4,
      "outputs": []
    },
    {
      "cell_type": "markdown",
      "source": [
        "# **Data Preprocessing**"
      ],
      "metadata": {
        "id": "KfR8bW6TCHoq"
      }
    },
    {
      "cell_type": "code",
      "source": [
        "# Encode 'sex' and 'smoker' columns to numeric values\n",
        "df['sex'] = df['sex'].map({'male': 0, 'female': 1})\n",
        "df['smoker'] = df['smoker'].map({'no': 0, 'yes': 1})\n",
        "\n",
        "# One-hot encode the 'region' column (and drop one region to avoid dummy variable trap)\n",
        "df = pd.get_dummies(df, columns=['region'], drop_first=True)\n",
        "\n",
        "print(\"Columns after encoding:\\n\", df.columns)\n",
        "print(df.head())\n"
      ],
      "metadata": {
        "colab": {
          "base_uri": "https://localhost:8080/"
        },
        "id": "XJMRjQT5CHcN",
        "outputId": "065969db-b426-4478-a848-75403f1f219b"
      },
      "execution_count": 5,
      "outputs": [
        {
          "output_type": "stream",
          "name": "stdout",
          "text": [
            "Columns after encoding:\n",
            " Index(['age', 'sex', 'bmi', 'children', 'smoker', 'charges',\n",
            "       'region_northwest', 'region_southeast', 'region_southwest'],\n",
            "      dtype='object')\n",
            "   age  sex     bmi  children  smoker      charges  region_northwest  \\\n",
            "0   19    1  27.900         0       1  16884.92400             False   \n",
            "1   18    0  33.770         1       0   1725.55230             False   \n",
            "2   28    0  33.000         3       0   4449.46200             False   \n",
            "3   33    0  22.705         0       0  21984.47061              True   \n",
            "4   32    0  28.880         0       0   3866.85520              True   \n",
            "\n",
            "   region_southeast  region_southwest  \n",
            "0             False              True  \n",
            "1              True             False  \n",
            "2              True             False  \n",
            "3             False             False  \n",
            "4             False             False  \n"
          ]
        }
      ]
    },
    {
      "cell_type": "markdown",
      "source": [
        "# **Feature Engineering**"
      ],
      "metadata": {
        "id": "eJ8oAoTjC9ap"
      }
    },
    {
      "cell_type": "code",
      "source": [
        "# Feature Engineering: Add 'smoker_bmi'\n",
        "df['smoker_bmi'] = df['smoker'] * df['bmi']\n",
        "\n",
        "# Feature & Target Split\n",
        "X = df.drop('charges', axis=1)\n",
        "y = df['charges']\n",
        "\n",
        "print(\"Feature columns:\\n\", X.columns)\n",
        "print(\"Target preview:\\n\", y.head())\n"
      ],
      "metadata": {
        "colab": {
          "base_uri": "https://localhost:8080/"
        },
        "id": "n1Hne896CNtN",
        "outputId": "ea4ae840-090c-46a2-a1ec-3c8d7b960c77"
      },
      "execution_count": 6,
      "outputs": [
        {
          "output_type": "stream",
          "name": "stdout",
          "text": [
            "Feature columns:\n",
            " Index(['age', 'sex', 'bmi', 'children', 'smoker', 'region_northwest',\n",
            "       'region_southeast', 'region_southwest', 'smoker_bmi'],\n",
            "      dtype='object')\n",
            "Target preview:\n",
            " 0    16884.92400\n",
            "1     1725.55230\n",
            "2     4449.46200\n",
            "3    21984.47061\n",
            "4     3866.85520\n",
            "Name: charges, dtype: float64\n"
          ]
        }
      ]
    },
    {
      "cell_type": "markdown",
      "source": [
        "# ** Train-Test Split**"
      ],
      "metadata": {
        "id": "hOPuI-wADIJG"
      }
    },
    {
      "cell_type": "code",
      "source": [
        "from sklearn.model_selection import train_test_split\n",
        "\n",
        "# 80% training, 20% testing\n",
        "X_train, X_test, y_train, y_test = train_test_split(\n",
        "    X, y, test_size=0.2, random_state=42\n",
        ")\n",
        "\n",
        "print(\"Training set size:\", X_train.shape)\n",
        "print(\"Test set size:\", X_test.shape)\n"
      ],
      "metadata": {
        "colab": {
          "base_uri": "https://localhost:8080/"
        },
        "id": "TONgGNHDDLUP",
        "outputId": "1b0d5a72-5013-4cb5-95f8-04a2f57f3f04"
      },
      "execution_count": 7,
      "outputs": [
        {
          "output_type": "stream",
          "name": "stdout",
          "text": [
            "Training set size: (1069, 9)\n",
            "Test set size: (268, 9)\n"
          ]
        }
      ]
    },
    {
      "cell_type": "markdown",
      "source": [
        "# **Feature Scaling**\n"
      ],
      "metadata": {
        "id": "J5EmpyWODQ00"
      }
    },
    {
      "cell_type": "code",
      "source": [
        "from sklearn.preprocessing import StandardScaler\n",
        "\n",
        "# Initialize the scaler\n",
        "scaler = StandardScaler()\n",
        "\n",
        "# Fit on training data and transform both train and test sets\n",
        "X_train_scaled = scaler.fit_transform(X_train)\n",
        "X_test_scaled = scaler.transform(X_test)\n",
        "\n",
        "print(\"Sample of scaled training data:\\n\", X_train_scaled[:5])"
      ],
      "metadata": {
        "colab": {
          "base_uri": "https://localhost:8080/"
        },
        "id": "pbQ1AyYmDQS7",
        "outputId": "9e7b675b-f30a-4a10-c87e-eab779c7a67d"
      },
      "execution_count": 8,
      "outputs": [
        {
          "output_type": "stream",
          "name": "stdout",
          "text": [
            "Sample of scaled training data:\n",
            " [[-1.1576804  -0.97140947 -0.99692768 -0.90790804 -0.50029231 -0.57266946\n",
            "  -0.60581158 -0.57410974 -0.48788264]\n",
            " [-1.30061876 -0.97140947 -0.79276204  0.7669042  -0.50029231 -0.57266946\n",
            "  -0.60581158 -0.57410974 -0.48788264]\n",
            " [ 0.91492586  1.029432    1.15466402  0.7669042  -0.50029231  1.74620801\n",
            "  -0.60581158 -0.57410974 -0.48788264]\n",
            " [ 1.70108686 -0.97140947  1.80683684 -0.90790804 -0.50029231 -0.57266946\n",
            "   1.65067825 -0.57410974 -0.48788264]\n",
            " [ 0.55757996  1.029432   -0.6514166   0.7669042  -0.50029231 -0.57266946\n",
            "  -0.60581158 -0.57410974 -0.48788264]]\n"
          ]
        }
      ]
    },
    {
      "cell_type": "markdown",
      "source": [
        "# **Model Training — Gradient Boosting Regressor**"
      ],
      "metadata": {
        "id": "_0E0OoQaDQIB"
      }
    },
    {
      "cell_type": "code",
      "source": [
        "from sklearn.ensemble import GradientBoostingRegressor\n",
        "\n",
        "# Initialize and train the model\n",
        "gb = GradientBoostingRegressor(random_state=42)\n",
        "gb.fit(X_train_scaled, y_train)\n",
        "\n",
        "print(\"Model training completed.\")\n"
      ],
      "metadata": {
        "colab": {
          "base_uri": "https://localhost:8080/"
        },
        "id": "q91Se6-RDr9k",
        "outputId": "34c3db82-bd0f-437d-ddda-df91fad8a595"
      },
      "execution_count": 9,
      "outputs": [
        {
          "output_type": "stream",
          "name": "stdout",
          "text": [
            "Model training completed.\n"
          ]
        }
      ]
    },
    {
      "cell_type": "markdown",
      "source": [
        "I chose Gradient Boosting as the final model because it delivered the best test performance among the models evaluated. Specifically, it achieved the lowest Mean Absolute Error (MAE) (2445.27), the lowest Root Mean Squared Error (RMSE) (18,07,639), and the highest R² score (0.90). These results indicate that Gradient Boosting predicts insurance charges more accurately and explains the most variance in the data compared to Linear Regression and Random Forest. Therefore, it is the most reliable model for this regression task, balancing error minimization and predictive power.\n",
        "\n",
        "\n",
        "\n",
        "results of the models thst has been tested\n",
        "\n",
        "\n",
        "                         Model          MAE          RMSE        R2\n",
        "                0  Linear Regression  2828.973747  2.091060e+07  0.886205\n",
        "                1      Random Forest  2710.344503  2.279962e+07  0.875925\n",
        "                2  Gradient Boosting  2445.269126  1.807639e+07  0.901628\n",
        "\n",
        "\n"
      ],
      "metadata": {
        "id": "khG5PdryE2VL"
      }
    },
    {
      "cell_type": "markdown",
      "source": [
        "# **Model Validation**"
      ],
      "metadata": {
        "id": "GPYlX1CsD0XB"
      }
    },
    {
      "cell_type": "code",
      "source": [
        "from sklearn.metrics import mean_absolute_error, mean_squared_error, r2_score\n",
        "\n",
        "# Predict charges for the test set\n",
        "y_pred_gb = gb.predict(X_test_scaled)\n",
        "\n",
        "# Calculate metrics\n",
        "mae_gb = mean_absolute_error(y_test, y_pred_gb)\n",
        "rmse_gb = mean_squared_error(y_test, y_pred_gb) ** 0.5  # RMSE\n",
        "r2_gb = r2_score(y_test, y_pred_gb)\n",
        "\n",
        "print(f\"Gradient Boosting Test MAE: {mae_gb:.2f}\")\n",
        "print(f\"Gradient Boosting Test RMSE: {rmse_gb:.2f}\")\n",
        "print(f\"Gradient Boosting Test R^2: {r2_gb:.3f}\")\n",
        "\n",
        "# Optional: Visualize actual vs predicted\n",
        "import matplotlib.pyplot as plt\n",
        "plt.scatter(y_test, y_pred_gb, alpha=0.6)\n",
        "plt.xlabel(\"Actual Charges\")\n",
        "plt.ylabel(\"Predicted Charges\")\n",
        "plt.title(\"Actual vs Predicted - Gradient Boosting\")\n",
        "plt.show()\n"
      ],
      "metadata": {
        "colab": {
          "base_uri": "https://localhost:8080/",
          "height": 526
        },
        "id": "tQHlqoe8D305",
        "outputId": "f2f60bfe-1e7b-4b49-d3d7-42ce37fbb3cf"
      },
      "execution_count": 10,
      "outputs": [
        {
          "output_type": "stream",
          "name": "stdout",
          "text": [
            "Gradient Boosting Test MAE: 2445.27\n",
            "Gradient Boosting Test RMSE: 4251.63\n",
            "Gradient Boosting Test R^2: 0.902\n"
          ]
        },
        {
          "output_type": "display_data",
          "data": {
            "text/plain": [
              "<Figure size 640x480 with 1 Axes>"
            ],
            "image/png": "[encoded data removed]"
          },
          "metadata": {}
        }
      ]
    },
    {
      "cell_type": "markdown",
      "source": [
        "# **Custom Prediction**"
      ],
      "metadata": {
        "id": "EBFCzJ9jEF4p"
      }
    },
    {
      "cell_type": "code",
      "source": [
        "# Example input: change these values as desired\n",
        "custom_input = {\n",
        "    'age': 40,\n",
        "    'sex': 1,           # 0 = male, 1 = female\n",
        "    'bmi': 32.8,\n",
        "    'children': 1,\n",
        "    'smoker': 1,        # 0 = no, 1 = yes\n",
        "    'region_northwest': 1,\n",
        "    'region_southeast': 0,\n",
        "    'region_southwest': 0,\n",
        "    'smoker_bmi': 29.0  # smoker * bmi\n",
        "}\n",
        "\n",
        "# Convert to DataFrame with correct column order\n",
        "custom_df = pd.DataFrame([custom_input])\n",
        "\n",
        "# Same feature order as training data (adjust if your order is different)\n",
        "custom_df = custom_df[X.columns]\n",
        "\n",
        "# Scale custom input\n",
        "custom_scaled = scaler.transform(custom_df)\n",
        "\n",
        "# Predict\n",
        "predicted_charge = gb.predict(custom_scaled)\n",
        "print(f\"Predicted insurance charge for input: {predicted_charge[0]:.2f}\")\n"
      ],
      "metadata": {
        "colab": {
          "base_uri": "https://localhost:8080/"
        },
        "id": "SElzg0vqEKyg",
        "outputId": "f365cfe5-0a19-4fad-80ed-3e54822350a7"
      },
      "execution_count": 16,
      "outputs": [
        {
          "output_type": "stream",
          "name": "stdout",
          "text": [
            "Predicted insurance charge for input: 26098.26\n"
          ]
        }
      ]
    }
  ]
}